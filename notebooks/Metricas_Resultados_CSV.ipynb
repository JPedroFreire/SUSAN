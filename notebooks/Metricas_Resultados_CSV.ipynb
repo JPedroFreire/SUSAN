{
  "cells": [
    {
      "cell_type": "code",
      "execution_count": null,
      "metadata": {
        "colab": {
          "base_uri": "https://localhost:8080/"
        },
        "id": "UVpH2CJ3yK9-",
        "outputId": "88f969cb-3e2f-4c6c-8f79-58dbbd55f82c"
      },
      "outputs": [
        {
          "name": "stdout",
          "output_type": "stream",
          "text": [
            "Mounted at /content/drive\n"
          ]
        }
      ],
      "source": [
        "from google.colab import drive\n",
        "drive.mount('/content/drive')"
      ]
    },
    {
      "cell_type": "code",
      "execution_count": null,
      "metadata": {
        "id": "-Kd00N4Q0aX-"
      },
      "outputs": [],
      "source": [
        "import pandas as pd\n",
        "import os"
      ]
    },
    {
      "cell_type": "code",
      "execution_count": null,
      "metadata": {
        "id": "G6LkUmHO0u3O"
      },
      "outputs": [],
      "source": [
        "df = pd.read_csv('/content/inception(V)_inception(G).csv')"
      ]
    },
    {
      "cell_type": "code",
      "execution_count": null,
      "metadata": {
        "colab": {
          "base_uri": "https://localhost:8080/",
          "height": 206
        },
        "id": "j27Enew30xAV",
        "outputId": "39288cbe-76bc-4532-f14d-b55611a5f828"
      },
      "outputs": [
        {
          "data": {
            "application/vnd.google.colaboratory.intrinsic+json": {
              "summary": "{\n  \"name\": \"df\",\n  \"rows\": 350,\n  \"fields\": [\n    {\n      \"column\": \"video_name\",\n      \"properties\": {\n        \"dtype\": \"category\",\n        \"num_unique_values\": 115,\n        \"samples\": [\n          \"88.mp4\",\n          \"12.mp4\",\n          \"35.mp4\"\n        ],\n        \"semantic_type\": \"\",\n        \"description\": \"\"\n      }\n    },\n    {\n      \"column\": \"label\",\n      \"properties\": {\n        \"dtype\": \"category\",\n        \"num_unique_values\": 2,\n        \"samples\": [\n          \"non-violent\",\n          \"violent\"\n        ],\n        \"semantic_type\": \"\",\n        \"description\": \"\"\n      }\n    },\n    {\n      \"column\": \"camera\",\n      \"properties\": {\n        \"dtype\": \"number\",\n        \"std\": 0,\n        \"min\": 1,\n        \"max\": 2,\n        \"num_unique_values\": 2,\n        \"samples\": [\n          2,\n          1\n        ],\n        \"semantic_type\": \"\",\n        \"description\": \"\"\n      }\n    },\n    {\n      \"column\": \"violence_prediction\",\n      \"properties\": {\n        \"dtype\": \"number\",\n        \"std\": 0,\n        \"min\": 0,\n        \"max\": 1,\n        \"num_unique_values\": 2,\n        \"samples\": [\n          1,\n          0\n        ],\n        \"semantic_type\": \"\",\n        \"description\": \"\"\n      }\n    },\n    {\n      \"column\": \"has_female\",\n      \"properties\": {\n        \"dtype\": \"boolean\",\n        \"num_unique_values\": 2,\n        \"samples\": [\n          true,\n          false\n        ],\n        \"semantic_type\": \"\",\n        \"description\": \"\"\n      }\n    },\n    {\n      \"column\": \"violence_detected\",\n      \"properties\": {\n        \"dtype\": \"boolean\",\n        \"num_unique_values\": 2,\n        \"samples\": [\n          false,\n          true\n        ],\n        \"semantic_type\": \"\",\n        \"description\": \"\"\n      }\n    }\n  ]\n}",
              "type": "dataframe",
              "variable_name": "df"
            },
            "text/html": [
              "\n",
              "  <div id=\"df-dae4efc1-ff7a-4cdb-ab49-55f32bafdc0e\" class=\"colab-df-container\">\n",
              "    <div>\n",
              "<style scoped>\n",
              "    .dataframe tbody tr th:only-of-type {\n",
              "        vertical-align: middle;\n",
              "    }\n",
              "\n",
              "    .dataframe tbody tr th {\n",
              "        vertical-align: top;\n",
              "    }\n",
              "\n",
              "    .dataframe thead th {\n",
              "        text-align: right;\n",
              "    }\n",
              "</style>\n",
              "<table border=\"1\" class=\"dataframe\">\n",
              "  <thead>\n",
              "    <tr style=\"text-align: right;\">\n",
              "      <th></th>\n",
              "      <th>video_name</th>\n",
              "      <th>label</th>\n",
              "      <th>camera</th>\n",
              "      <th>violence_prediction</th>\n",
              "      <th>has_female</th>\n",
              "      <th>violence_detected</th>\n",
              "    </tr>\n",
              "  </thead>\n",
              "  <tbody>\n",
              "    <tr>\n",
              "      <th>0</th>\n",
              "      <td>15.mp4</td>\n",
              "      <td>violent</td>\n",
              "      <td>1</td>\n",
              "      <td>0</td>\n",
              "      <td>False</td>\n",
              "      <td>True</td>\n",
              "    </tr>\n",
              "    <tr>\n",
              "      <th>1</th>\n",
              "      <td>29.mp4</td>\n",
              "      <td>violent</td>\n",
              "      <td>1</td>\n",
              "      <td>1</td>\n",
              "      <td>True</td>\n",
              "      <td>True</td>\n",
              "    </tr>\n",
              "    <tr>\n",
              "      <th>2</th>\n",
              "      <td>33.mp4</td>\n",
              "      <td>violent</td>\n",
              "      <td>1</td>\n",
              "      <td>1</td>\n",
              "      <td>True</td>\n",
              "      <td>True</td>\n",
              "    </tr>\n",
              "    <tr>\n",
              "      <th>3</th>\n",
              "      <td>48.mp4</td>\n",
              "      <td>violent</td>\n",
              "      <td>1</td>\n",
              "      <td>1</td>\n",
              "      <td>True</td>\n",
              "      <td>True</td>\n",
              "    </tr>\n",
              "    <tr>\n",
              "      <th>4</th>\n",
              "      <td>12.mp4</td>\n",
              "      <td>violent</td>\n",
              "      <td>1</td>\n",
              "      <td>1</td>\n",
              "      <td>True</td>\n",
              "      <td>True</td>\n",
              "    </tr>\n",
              "  </tbody>\n",
              "</table>\n",
              "</div>\n",
              "    <div class=\"colab-df-buttons\">\n",
              "\n",
              "  <div class=\"colab-df-container\">\n",
              "    <button class=\"colab-df-convert\" onclick=\"convertToInteractive('df-dae4efc1-ff7a-4cdb-ab49-55f32bafdc0e')\"\n",
              "            title=\"Convert this dataframe to an interactive table.\"\n",
              "            style=\"display:none;\">\n",
              "\n",
              "  <svg xmlns=\"http://www.w3.org/2000/svg\" height=\"24px\" viewBox=\"0 -960 960 960\">\n",
              "    <path d=\"M120-120v-720h720v720H120Zm60-500h600v-160H180v160Zm220 220h160v-160H400v160Zm0 220h160v-160H400v160ZM180-400h160v-160H180v160Zm440 0h160v-160H620v160ZM180-180h160v-160H180v160Zm440 0h160v-160H620v160Z\"/>\n",
              "  </svg>\n",
              "    </button>\n",
              "\n",
              "  <style>\n",
              "    .colab-df-container {\n",
              "      display:flex;\n",
              "      gap: 12px;\n",
              "    }\n",
              "\n",
              "    .colab-df-convert {\n",
              "      background-color: #E8F0FE;\n",
              "      border: none;\n",
              "      border-radius: 50%;\n",
              "      cursor: pointer;\n",
              "      display: none;\n",
              "      fill: #1967D2;\n",
              "      height: 32px;\n",
              "      padding: 0 0 0 0;\n",
              "      width: 32px;\n",
              "    }\n",
              "\n",
              "    .colab-df-convert:hover {\n",
              "      background-color: #E2EBFA;\n",
              "      box-shadow: 0px 1px 2px rgba(60, 64, 67, 0.3), 0px 1px 3px 1px rgba(60, 64, 67, 0.15);\n",
              "      fill: #174EA6;\n",
              "    }\n",
              "\n",
              "    .colab-df-buttons div {\n",
              "      margin-bottom: 4px;\n",
              "    }\n",
              "\n",
              "    [theme=dark] .colab-df-convert {\n",
              "      background-color: #3B4455;\n",
              "      fill: #D2E3FC;\n",
              "    }\n",
              "\n",
              "    [theme=dark] .colab-df-convert:hover {\n",
              "      background-color: #434B5C;\n",
              "      box-shadow: 0px 1px 3px 1px rgba(0, 0, 0, 0.15);\n",
              "      filter: drop-shadow(0px 1px 2px rgba(0, 0, 0, 0.3));\n",
              "      fill: #FFFFFF;\n",
              "    }\n",
              "  </style>\n",
              "\n",
              "    <script>\n",
              "      const buttonEl =\n",
              "        document.querySelector('#df-dae4efc1-ff7a-4cdb-ab49-55f32bafdc0e button.colab-df-convert');\n",
              "      buttonEl.style.display =\n",
              "        google.colab.kernel.accessAllowed ? 'block' : 'none';\n",
              "\n",
              "      async function convertToInteractive(key) {\n",
              "        const element = document.querySelector('#df-dae4efc1-ff7a-4cdb-ab49-55f32bafdc0e');\n",
              "        const dataTable =\n",
              "          await google.colab.kernel.invokeFunction('convertToInteractive',\n",
              "                                                    [key], {});\n",
              "        if (!dataTable) return;\n",
              "\n",
              "        const docLinkHtml = 'Like what you see? Visit the ' +\n",
              "          '<a target=\"_blank\" href=https://colab.research.google.com/notebooks/data_table.ipynb>data table notebook</a>'\n",
              "          + ' to learn more about interactive tables.';\n",
              "        element.innerHTML = '';\n",
              "        dataTable['output_type'] = 'display_data';\n",
              "        await google.colab.output.renderOutput(dataTable, element);\n",
              "        const docLink = document.createElement('div');\n",
              "        docLink.innerHTML = docLinkHtml;\n",
              "        element.appendChild(docLink);\n",
              "      }\n",
              "    </script>\n",
              "  </div>\n",
              "\n",
              "\n",
              "<div id=\"df-d385ac27-2fca-462f-8e7a-bbb9580fdf00\">\n",
              "  <button class=\"colab-df-quickchart\" onclick=\"quickchart('df-d385ac27-2fca-462f-8e7a-bbb9580fdf00')\"\n",
              "            title=\"Suggest charts\"\n",
              "            style=\"display:none;\">\n",
              "\n",
              "<svg xmlns=\"http://www.w3.org/2000/svg\" height=\"24px\"viewBox=\"0 0 24 24\"\n",
              "     width=\"24px\">\n",
              "    <g>\n",
              "        <path d=\"M19 3H5c-1.1 0-2 .9-2 2v14c0 1.1.9 2 2 2h14c1.1 0 2-.9 2-2V5c0-1.1-.9-2-2-2zM9 17H7v-7h2v7zm4 0h-2V7h2v10zm4 0h-2v-4h2v4z\"/>\n",
              "    </g>\n",
              "</svg>\n",
              "  </button>\n",
              "\n",
              "<style>\n",
              "  .colab-df-quickchart {\n",
              "      --bg-color: #E8F0FE;\n",
              "      --fill-color: #1967D2;\n",
              "      --hover-bg-color: #E2EBFA;\n",
              "      --hover-fill-color: #174EA6;\n",
              "      --disabled-fill-color: #AAA;\n",
              "      --disabled-bg-color: #DDD;\n",
              "  }\n",
              "\n",
              "  [theme=dark] .colab-df-quickchart {\n",
              "      --bg-color: #3B4455;\n",
              "      --fill-color: #D2E3FC;\n",
              "      --hover-bg-color: #434B5C;\n",
              "      --hover-fill-color: #FFFFFF;\n",
              "      --disabled-bg-color: #3B4455;\n",
              "      --disabled-fill-color: #666;\n",
              "  }\n",
              "\n",
              "  .colab-df-quickchart {\n",
              "    background-color: var(--bg-color);\n",
              "    border: none;\n",
              "    border-radius: 50%;\n",
              "    cursor: pointer;\n",
              "    display: none;\n",
              "    fill: var(--fill-color);\n",
              "    height: 32px;\n",
              "    padding: 0;\n",
              "    width: 32px;\n",
              "  }\n",
              "\n",
              "  .colab-df-quickchart:hover {\n",
              "    background-color: var(--hover-bg-color);\n",
              "    box-shadow: 0 1px 2px rgba(60, 64, 67, 0.3), 0 1px 3px 1px rgba(60, 64, 67, 0.15);\n",
              "    fill: var(--button-hover-fill-color);\n",
              "  }\n",
              "\n",
              "  .colab-df-quickchart-complete:disabled,\n",
              "  .colab-df-quickchart-complete:disabled:hover {\n",
              "    background-color: var(--disabled-bg-color);\n",
              "    fill: var(--disabled-fill-color);\n",
              "    box-shadow: none;\n",
              "  }\n",
              "\n",
              "  .colab-df-spinner {\n",
              "    border: 2px solid var(--fill-color);\n",
              "    border-color: transparent;\n",
              "    border-bottom-color: var(--fill-color);\n",
              "    animation:\n",
              "      spin 1s steps(1) infinite;\n",
              "  }\n",
              "\n",
              "  @keyframes spin {\n",
              "    0% {\n",
              "      border-color: transparent;\n",
              "      border-bottom-color: var(--fill-color);\n",
              "      border-left-color: var(--fill-color);\n",
              "    }\n",
              "    20% {\n",
              "      border-color: transparent;\n",
              "      border-left-color: var(--fill-color);\n",
              "      border-top-color: var(--fill-color);\n",
              "    }\n",
              "    30% {\n",
              "      border-color: transparent;\n",
              "      border-left-color: var(--fill-color);\n",
              "      border-top-color: var(--fill-color);\n",
              "      border-right-color: var(--fill-color);\n",
              "    }\n",
              "    40% {\n",
              "      border-color: transparent;\n",
              "      border-right-color: var(--fill-color);\n",
              "      border-top-color: var(--fill-color);\n",
              "    }\n",
              "    60% {\n",
              "      border-color: transparent;\n",
              "      border-right-color: var(--fill-color);\n",
              "    }\n",
              "    80% {\n",
              "      border-color: transparent;\n",
              "      border-right-color: var(--fill-color);\n",
              "      border-bottom-color: var(--fill-color);\n",
              "    }\n",
              "    90% {\n",
              "      border-color: transparent;\n",
              "      border-bottom-color: var(--fill-color);\n",
              "    }\n",
              "  }\n",
              "</style>\n",
              "\n",
              "  <script>\n",
              "    async function quickchart(key) {\n",
              "      const quickchartButtonEl =\n",
              "        document.querySelector('#' + key + ' button');\n",
              "      quickchartButtonEl.disabled = true;  // To prevent multiple clicks.\n",
              "      quickchartButtonEl.classList.add('colab-df-spinner');\n",
              "      try {\n",
              "        const charts = await google.colab.kernel.invokeFunction(\n",
              "            'suggestCharts', [key], {});\n",
              "      } catch (error) {\n",
              "        console.error('Error during call to suggestCharts:', error);\n",
              "      }\n",
              "      quickchartButtonEl.classList.remove('colab-df-spinner');\n",
              "      quickchartButtonEl.classList.add('colab-df-quickchart-complete');\n",
              "    }\n",
              "    (() => {\n",
              "      let quickchartButtonEl =\n",
              "        document.querySelector('#df-d385ac27-2fca-462f-8e7a-bbb9580fdf00 button');\n",
              "      quickchartButtonEl.style.display =\n",
              "        google.colab.kernel.accessAllowed ? 'block' : 'none';\n",
              "    })();\n",
              "  </script>\n",
              "</div>\n",
              "\n",
              "    </div>\n",
              "  </div>\n"
            ],
            "text/plain": [
              "  video_name    label  camera  violence_prediction  has_female  \\\n",
              "0     15.mp4  violent       1                    0       False   \n",
              "1     29.mp4  violent       1                    1        True   \n",
              "2     33.mp4  violent       1                    1        True   \n",
              "3     48.mp4  violent       1                    1        True   \n",
              "4     12.mp4  violent       1                    1        True   \n",
              "\n",
              "   violence_detected  \n",
              "0               True  \n",
              "1               True  \n",
              "2               True  \n",
              "3               True  \n",
              "4               True  "
            ]
          },
          "execution_count": 3,
          "metadata": {},
          "output_type": "execute_result"
        }
      ],
      "source": [
        "df.head()"
      ]
    },
    {
      "cell_type": "code",
      "execution_count": null,
      "metadata": {
        "id": "Oxu9AV254aHA"
      },
      "outputs": [],
      "source": [
        "def metrics(df, metric):\n",
        "  #true positive\n",
        "  tp = df[(df['violence_prediction'] == 1) & (df['label'] == 'violent')].shape[0]\n",
        "\n",
        "  #true negative\n",
        "  tn = df[(df['violence_prediction'] == 0) & (df['label'] == 'non-violent')].shape[0]\n",
        "\n",
        "  #false positive\n",
        "  fp = df[(df['violence_prediction'] == 1) & (df['label'] == 'non-violent')].shape[0]\n",
        "\n",
        "  #false negative\n",
        "  fn = df[(df['violence_prediction'] == 0) & (df['label'] == 'violent')].shape[0]\n",
        "\n",
        "  accuracy = (tp + tn)/(tp + tn + fp + fn)\n",
        "  precision = tp/(tp + fp)\n",
        "  recall = tp/(tp + fn)\n",
        "  f1_score = (2 * precision * recall)/(precision + recall)\n",
        "  total = df.shape[0]\n",
        "\n",
        "  result = {\n",
        "      'accuracy': accuracy,\n",
        "      'precision': precision,\n",
        "      'recall': recall,\n",
        "      'f1_score': f1_score,\n",
        "  }\n",
        "  '''\n",
        "  print(f\"True positive: {tp}\")\n",
        "  print(f\"True negative: {tn}\")\n",
        "  print(f\"False positive: {fp}\")\n",
        "  print(f\"False negative: {fn}\")\n",
        "  print(f\"Total: {total}\")\n",
        "  print(f\"Acurácia: {accuracy}\")\n",
        "  print(f\"F1 Score: {f1_score}\")\n",
        "  '''\n",
        "  return result[metric]"
      ]
    },
    {
      "cell_type": "code",
      "execution_count": null,
      "metadata": {
        "id": "eBKA_bs27jLK"
      },
      "outputs": [],
      "source": [
        "def metrics_detected(df):\n",
        "  #true positive\n",
        "  tp = df[(df['violence_detected'] == 1) & (df['label'] == 'violent')].shape[0]\n",
        "\n",
        "  #true negative\n",
        "  tn = df[(df['violence_detected'] == 0) & (df['label'] == 'non-violent')].shape[0]\n",
        "\n",
        "  #false positive\n",
        "  fp = df[(df['violence_detected'] == 1) & (df['label'] == 'non-violent')].shape[0]\n",
        "\n",
        "  #false negative\n",
        "  fn = df[(df['violence_detected'] == 0) & (df['label'] == 'violent')].shape[0]\n",
        "\n",
        "  accuracy = (tp + tn)/(tp + tn + fp + fn)\n",
        "  precision = tp/(tp + fp)\n",
        "  recall = tp/(tp + fn)\n",
        "  f1_score = (2 * precision * recall)/(precision + recall)\n",
        "  total = df.shape[0]\n",
        "\n",
        "  result = {\n",
        "      'accuracy': accuracy,\n",
        "      'precision': precision,\n",
        "      'recall': recall,\n",
        "      'f1_score': f1_score,\n",
        "  }\n",
        "\n",
        "  print(f\"True positive: {tp}\")\n",
        "  print(f\"True negative: {tn}\")\n",
        "  print(f\"False positive: {fp}\")\n",
        "  print(f\"False negative: {fn}\")\n",
        "  print(f\"Total: {total}\")\n",
        "  print(f\"Acurácia: {accuracy}\")\n",
        "  print(f\"F1 Score: {f1_score}\")\n",
        "  print(f\"Precision: {precision}\")\n",
        "  print(f\"Recall: {recall}\")"
      ]
    },
    {
      "cell_type": "code",
      "execution_count": null,
      "metadata": {
        "colab": {
          "base_uri": "https://localhost:8080/"
        },
        "id": "9Ulk9czu7tZj",
        "outputId": "9b39e055-95a2-49c2-ac2d-82928712d895"
      },
      "outputs": [
        {
          "name": "stdout",
          "output_type": "stream",
          "text": [
            "True positive: 225\n",
            "True negative: 52\n",
            "False positive: 68\n",
            "False negative: 5\n",
            "Total: 350\n",
            "Acurácia: 0.7914285714285715\n",
            "F1 Score: 0.8604206500956022\n",
            "Precision: 0.7679180887372014\n",
            "Recall: 0.9782608695652174\n"
          ]
        }
      ],
      "source": [
        "df = pd.read_csv('/content/inception(V)_inception(G).csv')\n",
        "metrics_detected(df)"
      ]
    },
    {
      "cell_type": "code",
      "execution_count": null,
      "metadata": {
        "colab": {
          "base_uri": "https://localhost:8080/"
        },
        "id": "BWvk-9Y48Ra0",
        "outputId": "75aa9c09-f341-42d2-a533-0f2e8cf47ff8"
      },
      "outputs": [
        {
          "name": "stdout",
          "output_type": "stream",
          "text": [
            "True positive: 228\n",
            "True negative: 48\n",
            "False positive: 72\n",
            "False negative: 2\n",
            "Total: 350\n",
            "Acurácia: 0.7885714285714286\n",
            "F1 Score: 0.860377358490566\n",
            "Precision: 0.76\n",
            "Recall: 0.991304347826087\n"
          ]
        }
      ],
      "source": [
        "df = pd.read_csv('/content/mobilenet(V)_inception(G).csv')\n",
        "metrics_detected(df)"
      ]
    },
    {
      "cell_type": "code",
      "execution_count": null,
      "metadata": {
        "colab": {
          "base_uri": "https://localhost:8080/"
        },
        "id": "mLADlVJ88V9T",
        "outputId": "d3756368-6a8c-4014-f67b-960b46fe8ec9"
      },
      "outputs": [
        {
          "name": "stdout",
          "output_type": "stream",
          "text": [
            "True positive: 230\n",
            "True negative: 28\n",
            "False positive: 92\n",
            "False negative: 0\n",
            "Total: 350\n",
            "Acurácia: 0.7371428571428571\n",
            "F1 Score: 0.8333333333333333\n",
            "Precision: 0.7142857142857143\n",
            "Recall: 1.0\n"
          ]
        }
      ],
      "source": [
        "df = pd.read_csv('/content/resnet(V)_inception(G).csv')\n",
        "metrics_detected(df)"
      ]
    },
    {
      "cell_type": "code",
      "execution_count": null,
      "metadata": {
        "colab": {
          "base_uri": "https://localhost:8080/"
        },
        "id": "zFjghAVi8ay4",
        "outputId": "ad419732-1b6b-431d-ea80-8ce06f23fadb"
      },
      "outputs": [
        {
          "name": "stdout",
          "output_type": "stream",
          "text": [
            "True positive: 230\n",
            "True negative: 6\n",
            "False positive: 114\n",
            "False negative: 0\n",
            "Total: 350\n",
            "Acurácia: 0.6742857142857143\n",
            "F1 Score: 0.8013937282229966\n",
            "Precision: 0.6686046511627907\n",
            "Recall: 1.0\n"
          ]
        }
      ],
      "source": [
        "df = pd.read_csv('/content/vgg(V)_inception(G).csv')\n",
        "metrics_detected(df)"
      ]
    },
    {
      "cell_type": "code",
      "execution_count": null,
      "metadata": {
        "id": "SXy3_vJ1B_LR"
      },
      "outputs": [],
      "source": [
        "video_files = []\n",
        "for root, dirs, files in os.walk('/content/'):\n",
        "  video_files.extend([file for file in files if file.lower().endswith((').csv'))])"
      ]
    },
    {
      "cell_type": "code",
      "execution_count": null,
      "metadata": {
        "colab": {
          "base_uri": "https://localhost:8080/"
        },
        "id": "oHmz8a1X97N5",
        "outputId": "14e5e894-35d1-483b-8005-97a37efdda0e"
      },
      "outputs": [
        {
          "name": "stdout",
          "output_type": "stream",
          "text": [
            "resnet(V)_vgg(G).csv\n",
            "True positive: 3\n",
            "True negative: 114\n",
            "False positive: 6\n",
            "False negative: 227\n",
            "Total: 350\n",
            "Acurácia: 0.3342857142857143\n",
            "F1 Score: 0.02510460251046025\n"
          ]
        }
      ],
      "source": [
        "file_path = '/content/vgg(V)_inception(G).csv'\n",
        "\n",
        "df = pd.read_csv(v[0])\n",
        "print(v[0])\n",
        "metrics(df)"
      ]
    },
    {
      "cell_type": "code",
      "execution_count": null,
      "metadata": {
        "colab": {
          "base_uri": "https://localhost:8080/"
        },
        "id": "b_h4NghGDo5Z",
        "outputId": "95241aa6-f0ce-406c-c437-ab6648275976"
      },
      "outputs": [
        {
          "name": "stdout",
          "output_type": "stream",
          "text": [
            "resnet(V)_vgg(G).csv\n",
            "True positive: 3\n",
            "True negative: 114\n",
            "False positive: 6\n",
            "False negative: 227\n",
            "Total: 350\n",
            "Acurácia: 0.3342857142857143\n",
            "F1 Score: 0.02510460251046025\n",
            "========================================\n",
            "resnet(V)_resnet(G).csv\n",
            "True positive: 153\n",
            "True negative: 59\n",
            "False positive: 61\n",
            "False negative: 77\n",
            "Total: 350\n",
            "Acurácia: 0.6057142857142858\n",
            "F1 Score: 0.6891891891891893\n",
            "========================================\n",
            "inception(V)_resnet(G).csv\n",
            "True positive: 152\n",
            "True negative: 80\n",
            "False positive: 40\n",
            "False negative: 78\n",
            "Total: 350\n",
            "Acurácia: 0.6628571428571428\n",
            "F1 Score: 0.7203791469194312\n",
            "========================================\n",
            "inception(V)_mobilenet(G).csv\n",
            "True positive: 167\n",
            "True negative: 65\n",
            "False positive: 55\n",
            "False negative: 63\n",
            "Total: 350\n",
            "Acurácia: 0.6628571428571428\n",
            "F1 Score: 0.7389380530973451\n",
            "========================================\n",
            "mobilenet(V)_vgg(G).csv\n",
            "True positive: 3\n",
            "True negative: 116\n",
            "False positive: 4\n",
            "False negative: 227\n",
            "Total: 350\n",
            "Acurácia: 0.34\n",
            "F1 Score: 0.02531645569620253\n",
            "========================================\n",
            "mobilenet(V)_resnet(G).csv\n",
            "True positive: 152\n",
            "True negative: 77\n",
            "False positive: 43\n",
            "False negative: 78\n",
            "Total: 350\n",
            "Acurácia: 0.6542857142857142\n",
            "F1 Score: 0.7152941176470589\n",
            "========================================\n",
            "vgg(V)_mobilenet(G).csv\n",
            "True positive: 171\n",
            "True negative: 20\n",
            "False positive: 100\n",
            "False negative: 59\n",
            "Total: 350\n",
            "Acurácia: 0.5457142857142857\n",
            "F1 Score: 0.6826347305389222\n",
            "========================================\n",
            "vgg(V)_resnet(G).csv\n",
            "True positive: 153\n",
            "True negative: 39\n",
            "False positive: 81\n",
            "False negative: 77\n",
            "Total: 350\n",
            "Acurácia: 0.5485714285714286\n",
            "F1 Score: 0.6594827586206896\n",
            "========================================\n",
            "mobilenet(V)_inception(G).csv\n",
            "True positive: 188\n",
            "True negative: 66\n",
            "False positive: 54\n",
            "False negative: 42\n",
            "Total: 350\n",
            "Acurácia: 0.7257142857142858\n",
            "F1 Score: 0.7966101694915254\n",
            "========================================\n",
            "vgg(V)_inception(G).csv\n",
            "True positive: 190\n",
            "True negative: 29\n",
            "False positive: 91\n",
            "False negative: 40\n",
            "Total: 350\n",
            "Acurácia: 0.6257142857142857\n",
            "F1 Score: 0.7436399217221137\n",
            "========================================\n",
            "resnet(V)_inception(G).csv\n",
            "True positive: 190\n",
            "True negative: 47\n",
            "False positive: 73\n",
            "False negative: 40\n",
            "Total: 350\n",
            "Acurácia: 0.6771428571428572\n",
            "F1 Score: 0.7707910750507101\n",
            "========================================\n",
            "inception(V)_vgg(G).csv\n",
            "True positive: 3\n",
            "True negative: 118\n",
            "False positive: 2\n",
            "False negative: 227\n",
            "Total: 350\n",
            "Acurácia: 0.3457142857142857\n",
            "F1 Score: 0.025531914893617016\n",
            "========================================\n",
            "vgg(V)_vgg(G).csv\n",
            "True positive: 3\n",
            "True negative: 113\n",
            "False positive: 7\n",
            "False negative: 227\n",
            "Total: 350\n",
            "Acurácia: 0.3314285714285714\n",
            "F1 Score: 0.024999999999999998\n",
            "========================================\n",
            "mobilenet(V)_mobilenet(G).csv\n",
            "True positive: 170\n",
            "True negative: 60\n",
            "False positive: 60\n",
            "False negative: 60\n",
            "Total: 350\n",
            "Acurácia: 0.6571428571428571\n",
            "F1 Score: 0.7391304347826085\n",
            "========================================\n",
            "inception(V)_inception(G).csv\n",
            "True positive: 187\n",
            "True negative: 65\n",
            "False positive: 55\n",
            "False negative: 43\n",
            "Total: 350\n",
            "Acurácia: 0.72\n",
            "F1 Score: 0.7923728813559321\n",
            "========================================\n",
            "resnet(V)_mobilenet(G).csv\n",
            "True positive: 171\n",
            "True negative: 40\n",
            "False positive: 80\n",
            "False negative: 59\n",
            "Total: 350\n",
            "Acurácia: 0.6028571428571429\n",
            "F1 Score: 0.711018711018711\n",
            "========================================\n"
          ]
        }
      ],
      "source": [
        "for video in video_files:\n",
        "  print(video)\n",
        "  df = pd.read_csv(video)\n",
        "  metrics(df)\n",
        "  print('========================================')"
      ]
    },
    {
      "cell_type": "markdown",
      "metadata": {
        "id": "NQ09RAOc94la"
      },
      "source": [
        "# Testes"
      ]
    },
    {
      "cell_type": "code",
      "execution_count": null,
      "metadata": {
        "id": "Wt9rf7Df28Nn"
      },
      "outputs": [],
      "source": [
        "models = ['inception', 'mobilenet', 'resnet', 'vgg']"
      ]
    },
    {
      "cell_type": "code",
      "execution_count": null,
      "metadata": {
        "id": "XEwqBKrb3K05"
      },
      "outputs": [],
      "source": [
        "video_files = []\n",
        "for root, dirs, files in os.walk('/content/'):\n",
        "  video_files.extend([file for file in files if file.lower().endswith((').csv'))])"
      ]
    },
    {
      "cell_type": "code",
      "execution_count": null,
      "metadata": {
        "id": "-bqD-Qc_3Tiw"
      },
      "outputs": [],
      "source": [
        "results_accuracy = {}\n",
        "results_precision = {}\n",
        "results_recall = {}\n",
        "results_f1 = {}\n",
        "\n",
        "for video in video_files:\n",
        "  #print(video[:-4])\n",
        "  df = pd.read_csv(video)\n",
        "  #metrics(df)\n",
        "\n",
        "  results_accuracy[video[:-4]] = metrics(df, 'accuracy')\n",
        "  results_precision[video[:-4]] =  metrics(df, 'precision')\n",
        "  results_recall[video[:-4]] =  metrics(df, 'recall')\n",
        "  results_f1[video[:-4]] = metrics(df, 'f1_score')\n"
      ]
    },
    {
      "cell_type": "code",
      "execution_count": null,
      "metadata": {
        "colab": {
          "base_uri": "https://localhost:8080/"
        },
        "id": "5yya6B53_pPv",
        "outputId": "5d359a6e-14d6-4c5e-925f-e4136b64da30"
      },
      "outputs": [
        {
          "data": {
            "text/plain": [
              "0.72"
            ]
          },
          "execution_count": 23,
          "metadata": {},
          "output_type": "execute_result"
        }
      ],
      "source": [
        "lista_v = ['inception(V)', 'mobilenet(V)', 'resnet(V)', 'vgg(V)']\n",
        "lista_g = ['inception(G)', 'mobilenet(G)', 'resnet(G)', 'vgg(G)']\n",
        "\n",
        "results_accuracy[f'{lista_v[0]}_{lista_g[0]}']"
      ]
    },
    {
      "cell_type": "markdown",
      "metadata": {
        "id": "l_tHnbo5TbYx"
      },
      "source": [
        "# heatmaps"
      ]
    },
    {
      "cell_type": "code",
      "execution_count": null,
      "metadata": {
        "id": "WkxvCAccGZvE"
      },
      "outputs": [],
      "source": [
        "inception_v = [results_f1[f'{lista_v[0]}_{i}'] for i in lista_g]\n",
        "mobilenet_v = [results_f1[f'{lista_v[1]}_{i}'] for i in lista_g]\n",
        "resnet_v = [results_f1[f'{lista_v[2]}_{i}'] for i in lista_g]\n",
        "vgg_v = [results_f1[f'{lista_v[3]}_{i}'] for i in lista_g]"
      ]
    },
    {
      "cell_type": "code",
      "execution_count": null,
      "metadata": {
        "colab": {
          "base_uri": "https://localhost:8080/",
          "height": 175
        },
        "id": "v3XwCXLeGHIW",
        "outputId": "16f2b340-9265-4960-ce95-fbcbfebb7bc7"
      },
      "outputs": [
        {
          "data": {
            "application/vnd.google.colaboratory.intrinsic+json": {
              "summary": "{\n  \"name\": \"dataframe_v\",\n  \"rows\": 4,\n  \"fields\": [\n    {\n      \"column\": \"inception(V)\",\n      \"properties\": {\n        \"dtype\": \"number\",\n        \"std\": 0.3637981209170374,\n        \"min\": 0.025531914893617016,\n        \"max\": 0.7923728813559321,\n        \"num_unique_values\": 4,\n        \"samples\": [\n          0.7389380530973451,\n          0.025531914893617016,\n          0.7923728813559321\n        ],\n        \"semantic_type\": \"\",\n        \"description\": \"\"\n      }\n    },\n    {\n      \"column\": \"mobilenet(V)\",\n      \"properties\": {\n        \"dtype\": \"number\",\n        \"std\": 0.36411742083597215,\n        \"min\": 0.02531645569620253,\n        \"max\": 0.7966101694915254,\n        \"num_unique_values\": 4,\n        \"samples\": [\n          0.7391304347826085,\n          0.02531645569620253,\n          0.7966101694915254\n        ],\n        \"semantic_type\": \"\",\n        \"description\": \"\"\n      }\n    },\n    {\n      \"column\": \"resnet(V)\",\n      \"properties\": {\n        \"dtype\": \"number\",\n        \"std\": 0.3509799316610903,\n        \"min\": 0.02510460251046025,\n        \"max\": 0.7707910750507101,\n        \"num_unique_values\": 4,\n        \"samples\": [\n          0.711018711018711,\n          0.02510460251046025,\n          0.7707910750507101\n        ],\n        \"semantic_type\": \"\",\n        \"description\": \"\"\n      }\n    },\n    {\n      \"column\": \"vgg(V)\",\n      \"properties\": {\n        \"dtype\": \"number\",\n        \"std\": 0.33700089294478225,\n        \"min\": 0.024999999999999998,\n        \"max\": 0.7436399217221137,\n        \"num_unique_values\": 4,\n        \"samples\": [\n          0.6826347305389222,\n          0.024999999999999998,\n          0.7436399217221137\n        ],\n        \"semantic_type\": \"\",\n        \"description\": \"\"\n      }\n    }\n  ]\n}",
              "type": "dataframe",
              "variable_name": "dataframe_v"
            },
            "text/html": [
              "\n",
              "  <div id=\"df-67833a97-e3c5-4555-af93-e83ba1c81e15\" class=\"colab-df-container\">\n",
              "    <div>\n",
              "<style scoped>\n",
              "    .dataframe tbody tr th:only-of-type {\n",
              "        vertical-align: middle;\n",
              "    }\n",
              "\n",
              "    .dataframe tbody tr th {\n",
              "        vertical-align: top;\n",
              "    }\n",
              "\n",
              "    .dataframe thead th {\n",
              "        text-align: right;\n",
              "    }\n",
              "</style>\n",
              "<table border=\"1\" class=\"dataframe\">\n",
              "  <thead>\n",
              "    <tr style=\"text-align: right;\">\n",
              "      <th></th>\n",
              "      <th>inception(V)</th>\n",
              "      <th>mobilenet(V)</th>\n",
              "      <th>resnet(V)</th>\n",
              "      <th>vgg(V)</th>\n",
              "    </tr>\n",
              "  </thead>\n",
              "  <tbody>\n",
              "    <tr>\n",
              "      <th>inception(G)</th>\n",
              "      <td>0.792373</td>\n",
              "      <td>0.796610</td>\n",
              "      <td>0.770791</td>\n",
              "      <td>0.743640</td>\n",
              "    </tr>\n",
              "    <tr>\n",
              "      <th>mobilenet(G)</th>\n",
              "      <td>0.738938</td>\n",
              "      <td>0.739130</td>\n",
              "      <td>0.711019</td>\n",
              "      <td>0.682635</td>\n",
              "    </tr>\n",
              "    <tr>\n",
              "      <th>resnet(G)</th>\n",
              "      <td>0.720379</td>\n",
              "      <td>0.715294</td>\n",
              "      <td>0.689189</td>\n",
              "      <td>0.659483</td>\n",
              "    </tr>\n",
              "    <tr>\n",
              "      <th>vgg(G)</th>\n",
              "      <td>0.025532</td>\n",
              "      <td>0.025316</td>\n",
              "      <td>0.025105</td>\n",
              "      <td>0.025000</td>\n",
              "    </tr>\n",
              "  </tbody>\n",
              "</table>\n",
              "</div>\n",
              "    <div class=\"colab-df-buttons\">\n",
              "\n",
              "  <div class=\"colab-df-container\">\n",
              "    <button class=\"colab-df-convert\" onclick=\"convertToInteractive('df-67833a97-e3c5-4555-af93-e83ba1c81e15')\"\n",
              "            title=\"Convert this dataframe to an interactive table.\"\n",
              "            style=\"display:none;\">\n",
              "\n",
              "  <svg xmlns=\"http://www.w3.org/2000/svg\" height=\"24px\" viewBox=\"0 -960 960 960\">\n",
              "    <path d=\"M120-120v-720h720v720H120Zm60-500h600v-160H180v160Zm220 220h160v-160H400v160Zm0 220h160v-160H400v160ZM180-400h160v-160H180v160Zm440 0h160v-160H620v160ZM180-180h160v-160H180v160Zm440 0h160v-160H620v160Z\"/>\n",
              "  </svg>\n",
              "    </button>\n",
              "\n",
              "  <style>\n",
              "    .colab-df-container {\n",
              "      display:flex;\n",
              "      gap: 12px;\n",
              "    }\n",
              "\n",
              "    .colab-df-convert {\n",
              "      background-color: #E8F0FE;\n",
              "      border: none;\n",
              "      border-radius: 50%;\n",
              "      cursor: pointer;\n",
              "      display: none;\n",
              "      fill: #1967D2;\n",
              "      height: 32px;\n",
              "      padding: 0 0 0 0;\n",
              "      width: 32px;\n",
              "    }\n",
              "\n",
              "    .colab-df-convert:hover {\n",
              "      background-color: #E2EBFA;\n",
              "      box-shadow: 0px 1px 2px rgba(60, 64, 67, 0.3), 0px 1px 3px 1px rgba(60, 64, 67, 0.15);\n",
              "      fill: #174EA6;\n",
              "    }\n",
              "\n",
              "    .colab-df-buttons div {\n",
              "      margin-bottom: 4px;\n",
              "    }\n",
              "\n",
              "    [theme=dark] .colab-df-convert {\n",
              "      background-color: #3B4455;\n",
              "      fill: #D2E3FC;\n",
              "    }\n",
              "\n",
              "    [theme=dark] .colab-df-convert:hover {\n",
              "      background-color: #434B5C;\n",
              "      box-shadow: 0px 1px 3px 1px rgba(0, 0, 0, 0.15);\n",
              "      filter: drop-shadow(0px 1px 2px rgba(0, 0, 0, 0.3));\n",
              "      fill: #FFFFFF;\n",
              "    }\n",
              "  </style>\n",
              "\n",
              "    <script>\n",
              "      const buttonEl =\n",
              "        document.querySelector('#df-67833a97-e3c5-4555-af93-e83ba1c81e15 button.colab-df-convert');\n",
              "      buttonEl.style.display =\n",
              "        google.colab.kernel.accessAllowed ? 'block' : 'none';\n",
              "\n",
              "      async function convertToInteractive(key) {\n",
              "        const element = document.querySelector('#df-67833a97-e3c5-4555-af93-e83ba1c81e15');\n",
              "        const dataTable =\n",
              "          await google.colab.kernel.invokeFunction('convertToInteractive',\n",
              "                                                    [key], {});\n",
              "        if (!dataTable) return;\n",
              "\n",
              "        const docLinkHtml = 'Like what you see? Visit the ' +\n",
              "          '<a target=\"_blank\" href=https://colab.research.google.com/notebooks/data_table.ipynb>data table notebook</a>'\n",
              "          + ' to learn more about interactive tables.';\n",
              "        element.innerHTML = '';\n",
              "        dataTable['output_type'] = 'display_data';\n",
              "        await google.colab.output.renderOutput(dataTable, element);\n",
              "        const docLink = document.createElement('div');\n",
              "        docLink.innerHTML = docLinkHtml;\n",
              "        element.appendChild(docLink);\n",
              "      }\n",
              "    </script>\n",
              "  </div>\n",
              "\n",
              "\n",
              "<div id=\"df-f7503b64-a79f-4a47-a3f7-a3a9553ffbaf\">\n",
              "  <button class=\"colab-df-quickchart\" onclick=\"quickchart('df-f7503b64-a79f-4a47-a3f7-a3a9553ffbaf')\"\n",
              "            title=\"Suggest charts\"\n",
              "            style=\"display:none;\">\n",
              "\n",
              "<svg xmlns=\"http://www.w3.org/2000/svg\" height=\"24px\"viewBox=\"0 0 24 24\"\n",
              "     width=\"24px\">\n",
              "    <g>\n",
              "        <path d=\"M19 3H5c-1.1 0-2 .9-2 2v14c0 1.1.9 2 2 2h14c1.1 0 2-.9 2-2V5c0-1.1-.9-2-2-2zM9 17H7v-7h2v7zm4 0h-2V7h2v10zm4 0h-2v-4h2v4z\"/>\n",
              "    </g>\n",
              "</svg>\n",
              "  </button>\n",
              "\n",
              "<style>\n",
              "  .colab-df-quickchart {\n",
              "      --bg-color: #E8F0FE;\n",
              "      --fill-color: #1967D2;\n",
              "      --hover-bg-color: #E2EBFA;\n",
              "      --hover-fill-color: #174EA6;\n",
              "      --disabled-fill-color: #AAA;\n",
              "      --disabled-bg-color: #DDD;\n",
              "  }\n",
              "\n",
              "  [theme=dark] .colab-df-quickchart {\n",
              "      --bg-color: #3B4455;\n",
              "      --fill-color: #D2E3FC;\n",
              "      --hover-bg-color: #434B5C;\n",
              "      --hover-fill-color: #FFFFFF;\n",
              "      --disabled-bg-color: #3B4455;\n",
              "      --disabled-fill-color: #666;\n",
              "  }\n",
              "\n",
              "  .colab-df-quickchart {\n",
              "    background-color: var(--bg-color);\n",
              "    border: none;\n",
              "    border-radius: 50%;\n",
              "    cursor: pointer;\n",
              "    display: none;\n",
              "    fill: var(--fill-color);\n",
              "    height: 32px;\n",
              "    padding: 0;\n",
              "    width: 32px;\n",
              "  }\n",
              "\n",
              "  .colab-df-quickchart:hover {\n",
              "    background-color: var(--hover-bg-color);\n",
              "    box-shadow: 0 1px 2px rgba(60, 64, 67, 0.3), 0 1px 3px 1px rgba(60, 64, 67, 0.15);\n",
              "    fill: var(--button-hover-fill-color);\n",
              "  }\n",
              "\n",
              "  .colab-df-quickchart-complete:disabled,\n",
              "  .colab-df-quickchart-complete:disabled:hover {\n",
              "    background-color: var(--disabled-bg-color);\n",
              "    fill: var(--disabled-fill-color);\n",
              "    box-shadow: none;\n",
              "  }\n",
              "\n",
              "  .colab-df-spinner {\n",
              "    border: 2px solid var(--fill-color);\n",
              "    border-color: transparent;\n",
              "    border-bottom-color: var(--fill-color);\n",
              "    animation:\n",
              "      spin 1s steps(1) infinite;\n",
              "  }\n",
              "\n",
              "  @keyframes spin {\n",
              "    0% {\n",
              "      border-color: transparent;\n",
              "      border-bottom-color: var(--fill-color);\n",
              "      border-left-color: var(--fill-color);\n",
              "    }\n",
              "    20% {\n",
              "      border-color: transparent;\n",
              "      border-left-color: var(--fill-color);\n",
              "      border-top-color: var(--fill-color);\n",
              "    }\n",
              "    30% {\n",
              "      border-color: transparent;\n",
              "      border-left-color: var(--fill-color);\n",
              "      border-top-color: var(--fill-color);\n",
              "      border-right-color: var(--fill-color);\n",
              "    }\n",
              "    40% {\n",
              "      border-color: transparent;\n",
              "      border-right-color: var(--fill-color);\n",
              "      border-top-color: var(--fill-color);\n",
              "    }\n",
              "    60% {\n",
              "      border-color: transparent;\n",
              "      border-right-color: var(--fill-color);\n",
              "    }\n",
              "    80% {\n",
              "      border-color: transparent;\n",
              "      border-right-color: var(--fill-color);\n",
              "      border-bottom-color: var(--fill-color);\n",
              "    }\n",
              "    90% {\n",
              "      border-color: transparent;\n",
              "      border-bottom-color: var(--fill-color);\n",
              "    }\n",
              "  }\n",
              "</style>\n",
              "\n",
              "  <script>\n",
              "    async function quickchart(key) {\n",
              "      const quickchartButtonEl =\n",
              "        document.querySelector('#' + key + ' button');\n",
              "      quickchartButtonEl.disabled = true;  // To prevent multiple clicks.\n",
              "      quickchartButtonEl.classList.add('colab-df-spinner');\n",
              "      try {\n",
              "        const charts = await google.colab.kernel.invokeFunction(\n",
              "            'suggestCharts', [key], {});\n",
              "      } catch (error) {\n",
              "        console.error('Error during call to suggestCharts:', error);\n",
              "      }\n",
              "      quickchartButtonEl.classList.remove('colab-df-spinner');\n",
              "      quickchartButtonEl.classList.add('colab-df-quickchart-complete');\n",
              "    }\n",
              "    (() => {\n",
              "      let quickchartButtonEl =\n",
              "        document.querySelector('#df-f7503b64-a79f-4a47-a3f7-a3a9553ffbaf button');\n",
              "      quickchartButtonEl.style.display =\n",
              "        google.colab.kernel.accessAllowed ? 'block' : 'none';\n",
              "    })();\n",
              "  </script>\n",
              "</div>\n",
              "\n",
              "    </div>\n",
              "  </div>\n"
            ],
            "text/plain": [
              "              inception(V)  mobilenet(V)  resnet(V)    vgg(V)\n",
              "inception(G)      0.792373      0.796610   0.770791  0.743640\n",
              "mobilenet(G)      0.738938      0.739130   0.711019  0.682635\n",
              "resnet(G)         0.720379      0.715294   0.689189  0.659483\n",
              "vgg(G)            0.025532      0.025316   0.025105  0.025000"
            ]
          },
          "execution_count": 52,
          "metadata": {},
          "output_type": "execute_result"
        }
      ],
      "source": [
        "dataframe_v = pd.DataFrame({'inception(V)': inception_v, 'mobilenet(V)': mobilenet_v, 'resnet(V)': resnet_v, 'vgg(V)': vgg_v}, index=lista_g)\n",
        "dataframe_v.head()"
      ]
    },
    {
      "cell_type": "code",
      "execution_count": null,
      "metadata": {
        "id": "n83wklczaceD"
      },
      "outputs": [],
      "source": [
        "import seaborn as sns\n",
        "import matplotlib.pyplot as plt"
      ]
    },
    {
      "cell_type": "code",
      "execution_count": null,
      "metadata": {
        "colab": {
          "base_uri": "https://localhost:8080/",
          "height": 452
        },
        "id": "TWcKCDjOah08",
        "outputId": "39819250-d8f9-4416-b11d-031619fbe8fa"
      },
      "outputs": [
        {
          "data": {
            "image/png": "[encoded data removed]",
            "text/plain": [
              "<Figure size 640x480 with 2 Axes>"
            ]
          },
          "metadata": {},
          "output_type": "display_data"
        }
      ],
      "source": [
        "#hetmap = dataframe_v.pivot(index=\"Model\", columns=\"Task\", values=\"Score\")\n",
        "sns.heatmap(dataframe_v, annot=True)\n",
        "plt.title('F1-Score')\n",
        "plt.savefig('heatmap_f1.png', bbox_inches = 'tight', dpi=300)"
      ]
    },
    {
      "cell_type": "code",
      "execution_count": null,
      "metadata": {
        "colab": {
          "base_uri": "https://localhost:8080/"
        },
        "id": "Clnctzdw6-QT",
        "outputId": "34b19aaf-81cc-4b9b-d7c3-0e8cf20ea8d1"
      },
      "outputs": [
        {
          "data": {
            "text/plain": [
              "{'model': {'accuracy': 0.6771428571428572,\n",
              "  'precision': 0.7224334600760456,\n",
              "  'recall': 0.8260869565217391}}"
            ]
          },
          "execution_count": 14,
          "metadata": {},
          "output_type": "execute_result"
        }
      ],
      "source": [
        "results = {}\n",
        "\n",
        "results['model'] = {'accuracy': metrics(df, 'accuracy'), 'precision': metrics(df, 'precision'), 'recall': metrics(df, 'recall')}\n",
        "results"
      ]
    }
  ],
  "metadata": {
    "colab": {
      "provenance": []
    },
    "kernelspec": {
      "display_name": "Python 3",
      "name": "python3"
    },
    "language_info": {
      "name": "python"
    }
  },
  "nbformat": 4,
  "nbformat_minor": 0
}
